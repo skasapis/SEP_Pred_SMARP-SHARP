{
 "cells": [
  {
   "cell_type": "code",
   "execution_count": 45,
   "metadata": {},
   "outputs": [],
   "source": [
    "import pandas as pd\n",
    "import numpy as np\n",
    "import matplotlib.pyplot as plt\n",
    "from sklearn import svm\n",
    "from sklearn.model_selection import train_test_split\n",
    "from sklearn.preprocessing import StandardScaler\n",
    "from sklearn.model_selection import GridSearchCV\n",
    "from sklearn.linear_model import LogisticRegression\n",
    "from sklearn import preprocessing\n",
    "from sklearn import metrics\n",
    "from mpl_toolkits.axes_grid1.inset_locator import inset_axes\n",
    "from functions import calculate_tss, calculate_hss, calculate_far, calculate_f1\n",
    "import seaborn as sns\n",
    "import sys\n",
    "import random"
   ]
  },
  {
   "cell_type": "markdown",
   "metadata": {},
   "source": [
    "# Read in Data"
   ]
  },
  {
   "cell_type": "code",
   "execution_count": 46,
   "metadata": {},
   "outputs": [
    {
     "name": "stdout",
     "output_type": "stream",
     "text": [
      "Index(['t_start', 't_max', 't_end', 'class', 'location', 'AR', 'SEP_Match',\n",
      "       'intensity', 'coords', 'ang_dist', 'T_OBS', 'ARPNUM', 'NOAA_AR',\n",
      "       'CAR_ROT', 'USFLUXL', 'R_VALUE', 'MEANGBL_GMM', 'MEANGBZ', 'USFLUXZ',\n",
      "       'CMASKL', 'LAT_FWT', 'CRLT_OBS', 'LON_FWT', 'CRLN_OBS', 'CDELT1',\n",
      "       'DSUN_OBS', 'RSUN_OBS', 'ANG_DIST_AR', 'time_diff'],\n",
      "      dtype='object')\n"
     ]
    }
   ],
   "source": [
    "flares = pd.read_csv(\"Flares_SEPs_SHMARPs_t-2.dat\", sep=\"\\t\")  # Adjust the 'sep' parameter according to your file's delimiter.\n",
    "print(flares.columns)"
   ]
  },
  {
   "cell_type": "markdown",
   "metadata": {},
   "source": [
    "# Check Some Stats"
   ]
  },
  {
   "cell_type": "code",
   "execution_count": 47,
   "metadata": {},
   "outputs": [
    {
     "name": "stdout",
     "output_type": "stream",
     "text": [
      "(3187, 29)\n",
      "(107, 29)\n"
     ]
    }
   ],
   "source": [
    "# Separate the DataFrame into positive and negative datasets\n",
    "positive_flares = flares[flares['SEP_Match'] == True]\n",
    "negative_flares = flares[flares['SEP_Match'] == False]\n",
    "\n",
    "# Filter out rows with 'time_diff' less than -3000 for positive flares\n",
    "positive_flares = positive_flares[positive_flares['time_diff'] >= -3000]\n",
    "negative_flares = negative_flares[negative_flares['time_diff'] >= -3000]\n",
    "\n",
    "# Drop NA\n",
    "positive_flares = positive_flares.dropna()\n",
    "negative_flares = negative_flares.dropna()\n",
    "\n",
    "print(np.shape(negative_flares))\n",
    "print(np.shape(positive_flares))"
   ]
  },
  {
   "attachments": {},
   "cell_type": "markdown",
   "metadata": {},
   "source": [
    "## Remove SEP-Causing ARs from Negative List (optional)"
   ]
  },
  {
   "cell_type": "code",
   "execution_count": 48,
   "metadata": {},
   "outputs": [
    {
     "name": "stdout",
     "output_type": "stream",
     "text": [
      "3187\n",
      "2547                   t_start                t_max                t_end class  \\\n",
      "0     1996-07-09 01:38:00  1996-07-09 01:44:00  1996-07-09 02:05:00  M1.4   \n",
      "1     1996-07-09 09:05:00  1996-07-09 09:11:00  1996-07-09 09:15:00  X2.6   \n",
      "2     1996-07-10 02:49:00  1996-07-10 03:43:00  1996-07-10 04:02:00  M1.0   \n",
      "3     1996-11-29 20:16:00  1996-11-29 20:44:00  1996-11-29 20:55:00  M1.0   \n",
      "4     1996-11-30 20:32:00  1996-11-30 21:03:00  1996-11-30 21:30:00  C8.6   \n",
      "...                   ...                  ...                  ...   ...   \n",
      "3373  2023-05-05 06:52:00  2023-05-05 07:06:00  2023-05-05 07:16:00  C9.5   \n",
      "3376  2023-05-06 00:11:00  2023-05-06 00:31:00  2023-05-06 00:36:00  C2.3   \n",
      "3377  2023-05-06 17:38:00  2023-05-06 17:45:00  2023-05-06 17:52:00  C1.8   \n",
      "3384  2023-05-09 00:05:00  2023-05-09 00:33:00  2023-05-09 00:57:00  C2.7   \n",
      "3395  2023-05-11 01:02:00  2023-05-11 01:09:00  2023-05-11 01:17:00  C4.1   \n",
      "\n",
      "     location     AR  SEP_Match  intensity     coords  ang_dist  ...  \\\n",
      "0      S10W28   7978      False   0.000014  (-10, 28) -0.342922  ...   \n",
      "1      S10W30   7978      False   0.000260  (-10, 30) -0.313528  ...   \n",
      "2      S11W39   7978      False   0.000010  (-11, 39) -0.218380  ...   \n",
      "3      S06W47   7999      False   0.000010   (-6, 47)  0.110364  ...   \n",
      "4      S05W63   7999      False   0.000009   (-5, 63)  0.325667  ...   \n",
      "...       ...    ...        ...        ...        ...       ...  ...   \n",
      "3373   N08E46  13297      False   0.000010   (8, -46) -1.588080  ...   \n",
      "3376   N10E40  13297      False   0.000002  (10, -40) -1.484859  ...   \n",
      "3377   N09E25  13297      False   0.000002   (9, -25) -1.226208  ...   \n",
      "3384   S07E15  13299      False   0.000003  (-7, -15) -1.051496  ...   \n",
      "3395   S07W34  13294      False   0.000004   (-7, 34) -0.227158  ...   \n",
      "\n",
      "             CMASKL    LAT_FWT  CRLT_OBS    LON_FWT    CRLN_OBS  CDELT1  \\\n",
      "0     119086.520783 -10.650000  3.740000  23.290000  224.650000    0.12   \n",
      "1     121549.050930 -10.750000  3.780000  27.750000  220.240000    0.12   \n",
      "2     126122.321203 -10.880000  3.850000  37.580000  210.540000    0.12   \n",
      "3     160017.289723  -4.250000  0.960000  45.120000  125.710000    0.12   \n",
      "4     145576.309362  -4.250000  0.830000  58.770000  112.540000    0.12   \n",
      "...             ...        ...       ...        ...         ...     ...   \n",
      "3373  134678.000000   8.033103 -3.783799 -48.554905  167.811234    0.03   \n",
      "3376  139830.000000   7.970693 -3.725718 -39.044476  158.338470    0.03   \n",
      "3377  149302.000000   7.916721 -3.644642 -29.218021  148.667221    0.03   \n",
      "3384   92329.000000  -7.518939 -3.405617 -16.815218  118.676376    0.03   \n",
      "3395   52040.000000  -7.905224 -3.392118   9.200291  117.569489    0.03   \n",
      "\n",
      "          DSUN_OBS    RSUN_OBS  ANG_DIST_AR    time_diff  \n",
      "0     1.505115e+11  953.819775    -0.420060  -189.500000  \n",
      "1     1.505128e+11  953.811202    -0.353231  -156.500000  \n",
      "2     1.505156e+11  953.793764    -0.229407  -164.500000  \n",
      "3     1.459020e+11  983.953786     0.074206  -156.500000  \n",
      "4     1.458748e+11  984.137131     0.251307  -172.500000  \n",
      "...            ...         ...          ...          ...  \n",
      "3373  1.508707e+11  951.548523    -1.632231  -123.933333  \n",
      "3376  1.508494e+11  951.683044    -1.467860  -130.933333  \n",
      "3377  1.508841e+11  951.464294    -1.298041  -121.933333  \n",
      "3384  1.509582e+11  950.997375    -1.083481  -124.916667  \n",
      "3395  1.509737e+11  950.899353    -0.637881 -2941.916667  \n",
      "\n",
      "[2547 rows x 29 columns]\n"
     ]
    }
   ],
   "source": [
    "remove_active = True\n",
    "if remove_active == True:\n",
    "    sep_ars = set(positive_flares['AR'])\n",
    "    print(len(negative_flares))\n",
    "    negative_flares = negative_flares[~negative_flares['AR'].isin(sep_ars)]\n",
    "    print(len(negative_flares), negative_flares)"
   ]
  },
  {
   "cell_type": "markdown",
   "metadata": {},
   "source": [
    "# Training"
   ]
  },
  {
   "cell_type": "code",
   "execution_count": 55,
   "metadata": {},
   "outputs": [],
   "source": [
    "TN_all = []; FP_all = []; FN_all = []; TP_all = []\n",
    "accuracy_all = []; cm_all = []\n",
    "\n",
    "# Combine all data and normalize\n",
    "predictors = ['R_VALUE', 'ANG_DIST_AR'] #, 'R_VALUE' ] #['USFLUXL', 'MEANGBL_GMM', 'MEANGBZ'] # #\n",
    "all_data = pd.concat([positive_flares[predictors], negative_flares[predictors]], ignore_index=True) # Combine positive and negative datasets\n",
    "scaler = preprocessing.StandardScaler().fit(all_data) # Scale all the data\n",
    "all_data_scaled = scaler.transform(all_data)\n",
    "total_runs = 100\n",
    "\n",
    "for run in range(0,total_runs):\n",
    "    positive_data = all_data_scaled[:len(positive_flares)] \n",
    "    negative_data = all_data_scaled[len(positive_flares):]\n",
    "    # Now split the positive and negative data into training and validation sets\n",
    "    positive_train, positive_val = train_test_split(positive_data, test_size=0.1, random_state=run)\n",
    "    negative_train, negative_val = train_test_split(negative_data, test_size=0.1, random_state=run) \n",
    "    # Combine back the training and validation datasets\n",
    "    X_train = np.vstack((positive_train, negative_train))\n",
    "    Y_train = np.array([1]*len(positive_train) + [0]*len(negative_train))\n",
    "    X_val = np.vstack((positive_val, negative_val))\n",
    "    Y_val = np.array([1]*len(positive_val) + [0]*len(negative_val))\n",
    "    # Define SVM parameters (Hyperparameters)\n",
    "    C = 0.01 #params['C']\n",
    "    deg = 1 #params['degree']\n",
    "    gamma = 5 #params['gamma']\n",
    "    kernel = 'linear'\n",
    "    # Calculate the weights manually for imbalanced data\n",
    "    weight_for_0 = (len(positive_train)/len(negative_train))  # for negative class\n",
    "    weight_for_1 = 1.0     # for positive class\n",
    "    class_weights = {0: weight_for_0, 1: weight_for_1}\n",
    "    model = svm.SVC(kernel=kernel, gamma=gamma, C=C, degree=deg, class_weight=class_weights)\n",
    "    model.fit(X_train, Y_train)\n",
    "    # VALIDATION !!!!!\n",
    "    output_pred = model.predict(X_val) # Now you can test the model on the validation set\n",
    "    # Calculate metrics for this specific run\n",
    "    cm = metrics.confusion_matrix(Y_val, output_pred) # Calculate confusion matrix\n",
    "    TN, FP, FN, TP = cm.ravel()\n",
    "    accuracy = metrics.accuracy_score(Y_val, output_pred) # Calculate accuracy\n",
    "    TN_all.append(TN); FP_all.append(FP); FN_all.append(FN); TP_all.append(TP)\n",
    "    accuracy_all.append(accuracy); cm_all.append(cm)"
   ]
  },
  {
   "cell_type": "markdown",
   "metadata": {},
   "source": [
    "# Calculate TSS and HSS"
   ]
  },
  {
   "cell_type": "code",
   "execution_count": 56,
   "metadata": {},
   "outputs": [],
   "source": [
    "tss_all = []; hss_all = []; far_all = []; f1_all = [] # Initialize empty lists to store TSS and HSS for each run \n",
    "for run in range(total_runs): # Calculate TSS and HSS for each run and store in lists\n",
    "    tp = cm_all[run][0, 0]; fn = cm_all[run][0, 1]; fp = cm_all[run][1, 0]; tn = cm_all[run][1, 1] # Calculate TP, FN, FP and TN\n",
    "    tss = calculate_tss(tp, tn, fp, fn); hss = calculate_hss(tp, tn, fp, fn) # Calculate TSS and HSS\n",
    "    far = calculate_far(tp, tn, fp, fn); f1 = calculate_f1(tp, tn, fp, fn) # Calculate TSS and HSS\n",
    "    tss_all.append(tss); hss_all.append(hss); far_all.append(far); f1_all.append(f1) # Append"
   ]
  },
  {
   "cell_type": "markdown",
   "metadata": {},
   "source": [
    "# Plot and Print Results"
   ]
  },
  {
   "cell_type": "code",
   "execution_count": 57,
   "metadata": {},
   "outputs": [
    {
     "data": {
      "image/png": "[encoded data removed]",
      "text/plain": [
       "<Figure size 800x350 with 4 Axes>"
      ]
     },
     "metadata": {},
     "output_type": "display_data"
    },
    {
     "name": "stdout",
     "output_type": "stream",
     "text": [
      "Average ACC for 100 runs: 0.667 +- 0.039\n",
      "Average TSS for 100 runs: 0.351 +- 0.126\n",
      "Average HSS for 100 runs: 0.078 +- 0.031\n",
      "Average FAR for 100 runs: 0.315 +- 0.12\n",
      "Average F1 for 100 runs: 0.792 +- 0.03\n"
     ]
    }
   ],
   "source": [
    "# Calculate average confusion matrix\n",
    "average_cm = np.array([[np.mean(TN_all), np.mean(FP_all)], [np.mean(FN_all), np.mean(TP_all)]])\n",
    "labels = ['Negative', 'Positive'] # Define labels\n",
    "average_cm_df = pd.DataFrame(average_cm, index=labels, columns=labels) # Create DataFrame for average confusion matrix\n",
    "\n",
    "# Calculate cumulative confusion matrix\n",
    "cumulative_cm = np.array([[int(sum(TN_all)), int(sum(FP_all))], [int(sum(FN_all)), int(sum(TP_all))]])\n",
    "cumulative_cm_df = pd.DataFrame(cumulative_cm, index=labels, columns=labels) # Create DataFrame for cumulative confusion matrix\n",
    "\n",
    "# Create a figure with 1 row and 2 columns of subplots\n",
    "fig, axes = plt.subplots(1, 2, figsize=(8, 3.5))\n",
    "# Plot average confusion matrix\n",
    "sns.heatmap(average_cm_df, annot=True, annot_kws={\"size\": 16}, fmt=\".1f\", cmap='Blues', cbar=True, linewidths=0.3, ax=axes[0])\n",
    "axes[0].set_title('Average Confusion Matrix'); axes[0].set_xlabel('Predicted'); axes[0].set_ylabel('Actual')\n",
    "# Plot cumulative confusion matrix\n",
    "sns.heatmap(cumulative_cm_df, annot=True, annot_kws={\"size\": 16}, fmt=\".1f\", cmap='Blues', cbar=True, linewidths=0.3, ax=axes[1])\n",
    "axes[1].set_title('Cumulative Confusion Matrix'); axes[1].set_xlabel('Predicted'); axes[1].set_ylabel('Actual')\n",
    "# Ensure good spacing between the subplots\n",
    "plt.tight_layout()  \n",
    "plt.show()\n",
    "\n",
    "print('Average ACC for {} runs: {} +- {}'.format(total_runs,round(np.mean(accuracy_all),3),round(np.std(accuracy_all),3)))\n",
    "print('Average TSS for {} runs: {} +- {}'.format(total_runs,round(np.mean(tss_all),3),round(np.std(tss_all),3)))\n",
    "print('Average HSS for {} runs: {} +- {}'.format(total_runs,round(np.mean(hss_all),3),round(np.std(hss_all),3)))\n",
    "print('Average FAR for {} runs: {} +- {}'.format(total_runs,round(np.mean(far_all),3),round(np.std(far_all),3)))\n",
    "print('Average F1 for {} runs: {} +- {}'.format(total_runs,round(np.mean(f1_all),3),round(np.std(f1_all),3)))"
   ]
  },
  {
   "cell_type": "code",
   "execution_count": null,
   "metadata": {},
   "outputs": [],
   "source": []
  },
  {
   "cell_type": "code",
   "execution_count": null,
   "metadata": {},
   "outputs": [],
   "source": []
  }
 ],
 "metadata": {
  "interpreter": {
   "hash": "0a5b5d5bbbe8c06a2ed6bf79908d451c4cd32f8b324d70660338d0bbd6cf456c"
  },
  "kernelspec": {
   "display_name": "Python 3.11.3 64-bit",
   "language": "python",
   "name": "python3"
  },
  "language_info": {
   "codemirror_mode": {
    "name": "ipython",
    "version": 3
   },
   "file_extension": ".py",
   "mimetype": "text/x-python",
   "name": "python",
   "nbconvert_exporter": "python",
   "pygments_lexer": "ipython3",
   "version": "3.11.3"
  },
  "orig_nbformat": 4
 },
 "nbformat": 4,
 "nbformat_minor": 2
}
